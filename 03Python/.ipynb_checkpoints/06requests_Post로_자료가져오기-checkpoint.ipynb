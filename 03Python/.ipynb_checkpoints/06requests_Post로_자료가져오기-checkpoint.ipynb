{
 "cells": [
  {
   "cell_type": "code",
   "execution_count": null,
   "id": "69de7e78",
   "metadata": {},
   "outputs": [],
   "source": [
    "import requests\n",
    "import time\n",
    "import pandas as pd\n",
    "from bs4 import BeautifulSoup as bs"
   ]
  },
  {
   "cell_type": "code",
   "execution_count": null,
   "id": "dfc8efc3",
   "metadata": {},
   "outputs": [],
   "source": [
    "url =\"https://kind.krx.co.kr/corpgeneral/corpList.do\""
   ]
  },
  {
   "cell_type": "code",
   "execution_count": null,
   "id": "4d1cc103",
   "metadata": {},
   "outputs": [],
   "source": [
    "payload = dict(method=\"searchCorpList\", pageIndex=1, currentPageSize=100, orderMode=3, orderStat=\"D\", searchType=13, fiscalYearEnd=\"all\", location=\"all\")"
   ]
  },
  {
   "cell_type": "code",
   "execution_count": null,
   "id": "d1921c31",
   "metadata": {},
   "outputs": [],
   "source": [
    "r = requests.post(url, data=payload)\n",
    "# r = requests.get(url, params=payload)\n",
    "print(r.url)\n",
    "print(r.status_code)\n",
    "soup = bs(r.content, 'lxml')\n",
    "soup"
   ]
  },
  {
   "cell_type": "markdown",
   "id": "a8437afb",
   "metadata": {},
   "source": [
    "# 찾을 자료를 1개씩 찾아보기"
   ]
  },
  {
   "cell_type": "code",
   "execution_count": null,
   "id": "b2cab6f4",
   "metadata": {},
   "outputs": [],
   "source": [
    "soup.select(\"tbody > tr\")"
   ]
  },
  {
   "cell_type": "code",
   "execution_count": null,
   "id": "bfeba2e7",
   "metadata": {
    "scrolled": true
   },
   "outputs": [],
   "source": [
    "soup.select(\"tbody > tr\")[0].select_one(\"td:nth-child(1)\")"
   ]
  },
  {
   "cell_type": "code",
   "execution_count": null,
   "id": "9cd654dc",
   "metadata": {
    "scrolled": false
   },
   "outputs": [],
   "source": [
    "# 주식종목\n",
    "soup.select(\"tbody > tr\")[0].select_one(\"td:nth-child(1) > img\")['alt']"
   ]
  },
  {
   "cell_type": "code",
   "execution_count": null,
   "id": "0b138024",
   "metadata": {},
   "outputs": [],
   "source": [
    "# 회사이름\n",
    "soup.select(\"tbody > tr\")[0].select_one(\"td:nth-child(1) > a\")[\"title\"]"
   ]
  },
  {
   "cell_type": "code",
   "execution_count": null,
   "id": "4f4f3a03",
   "metadata": {},
   "outputs": [],
   "source": [
    "soup.select(\"tbody > tr\")[0].select_one(\"td:nth-child(1) > a\")[\"onclick\"]"
   ]
  },
  {
   "cell_type": "code",
   "execution_count": null,
   "id": "3170e8e4",
   "metadata": {},
   "outputs": [],
   "source": [
    "# 종목코드\n",
    "soup.select(\"tbody > tr\")[0].select_one(\"td:nth-child(1) > a\")[\"onclick\"].split(\"'\")[1]"
   ]
  },
  {
   "cell_type": "code",
   "execution_count": null,
   "id": "dde81ae4",
   "metadata": {
    "scrolled": true
   },
   "outputs": [],
   "source": [
    "# 업종\n",
    "soup.select(\"tbody > tr\")[0].select_one(\"td:nth-child(2)\").text"
   ]
  },
  {
   "cell_type": "code",
   "execution_count": null,
   "id": "1aa69b89",
   "metadata": {},
   "outputs": [],
   "source": [
    "# 주요제품\n",
    "soup.select(\"tbody > tr\")[0].select_one(\"td:nth-child(3)\").text"
   ]
  },
  {
   "cell_type": "code",
   "execution_count": null,
   "id": "edb9f4ca",
   "metadata": {},
   "outputs": [],
   "source": [
    "# 상장일\n",
    "soup.select(\"tbody > tr\")[0].select_one(\"td:nth-child(4)\").text"
   ]
  },
  {
   "cell_type": "code",
   "execution_count": null,
   "id": "b0183bdb",
   "metadata": {},
   "outputs": [],
   "source": [
    "# 결산월\n",
    "soup.select(\"tbody > tr\")[0].select_one(\"td:nth-child(5)\").text"
   ]
  },
  {
   "cell_type": "code",
   "execution_count": null,
   "id": "e42a1063",
   "metadata": {},
   "outputs": [],
   "source": [
    "# 대표자명\n",
    "soup.select(\"tbody > tr\")[0].select_one(\"td:nth-child(6)\").text"
   ]
  },
  {
   "cell_type": "code",
   "execution_count": null,
   "id": "9c87662f",
   "metadata": {},
   "outputs": [],
   "source": [
    "soup.select(\"tbody > tr\")[0].select_one(\"td:nth-child(7)\")"
   ]
  },
  {
   "cell_type": "code",
   "execution_count": null,
   "id": "4456e4d2",
   "metadata": {},
   "outputs": [],
   "source": [
    "# 홈페이지(url)\n",
    "soup.select(\"tbody > tr\")[0].select_one(\"td:nth-child(7) > a\")[\"href\"]"
   ]
  },
  {
   "cell_type": "code",
   "execution_count": null,
   "id": "3158a3cb",
   "metadata": {
    "scrolled": true
   },
   "outputs": [],
   "source": [
    "# 지역\n",
    "soup.select(\"tbody > tr\")[0].select_one(\"td:nth-child(8)\").text"
   ]
  },
  {
   "cell_type": "code",
   "execution_count": null,
   "id": "d206aadb",
   "metadata": {},
   "outputs": [],
   "source": [
    "# 전체 페이지\n",
    "total_page = int(soup.select_one(\".info.type-00 > em\").text.replace(\",\", \"\")) // 100 + 1\n",
    "total_page"
   ]
  },
  {
   "cell_type": "code",
   "execution_count": null,
   "id": "3802cb1b",
   "metadata": {},
   "outputs": [],
   "source": [
    "soup.select_one(\"table\")[\"summary\"].split(\", \")"
   ]
  },
  {
   "cell_type": "code",
   "execution_count": null,
   "id": "66362ddb",
   "metadata": {},
   "outputs": [],
   "source": [
    "# 컬럼명\n",
    "columns = soup.select_one(\"table\")[\"summary\"].split(\", \")\n",
    "columns.insert(0, \"종목코드\")\n",
    "columns.insert(2, \"주식종목\")\n",
    "print(columns)\n",
    "df = pd.DataFrame(company_infos, columns=columns)\n",
    "df  "
   ]
  },
  {
   "cell_type": "code",
   "execution_count": null,
   "id": "a79ca8ef",
   "metadata": {},
   "outputs": [],
   "source": [
    "for idx, tr in enumerate(soup.select(\"tbody > tr\")):\n",
    "    print(f'{idx}/{len(soup.select(\"tbody > tr\"))} 작업중')\n",
    "    # 주식종목\n",
    "    stock_type = tr.select_one(\"td:nth-child(1) > img\")['alt']\n",
    "    # 회사이름\n",
    "    company_name = tr.select_one(\"td:nth-child(1) > a\")[\"title\"]\n",
    "    # 종목코드\n",
    "    stock_code = tr.select_one(\"td:nth-child(1) > a\")[\"onclick\"].split(\"'\")[1]\n",
    "    # 업종\n",
    "    business_type = tr.select_one(\"td:nth-child(2)\").text\n",
    "    # 주요제품\n",
    "    product = tr.select_one(\"td:nth-child(3)\").text\n",
    "    # 상장일\n",
    "    resi_date = tr.select_one(\"td:nth-child(4)\").text\n",
    "    # 결산월\n",
    "    settlement = tr.select_one(\"td:nth-child(5)\").text\n",
    "    # 대표자명\n",
    "    ceo = tr.select_one(\"td:nth-child(6)\").text\n",
    "    # 홈페이지(url)\n",
    "    hompage = tr.select_one(\"td:nth-child(7) > a\")[\"href\"] if tr.select_one(\"td:nth-child(7) > a\") != None else \"\"\n",
    "    # 지역\n",
    "    region = tr.select_one(\"td:nth-child(8)\").text\n"
   ]
  },
  {
   "cell_type": "code",
   "execution_count": null,
   "id": "ed1c187b",
   "metadata": {},
   "outputs": [],
   "source": []
  },
  {
   "cell_type": "code",
   "execution_count": null,
   "id": "9ed629e3",
   "metadata": {},
   "outputs": [],
   "source": []
  },
  {
   "cell_type": "markdown",
   "id": "5670eee8",
   "metadata": {},
   "source": [
    "# 코드 합쳐서 1페이지 정보 모두 추출하기"
   ]
  },
  {
   "cell_type": "code",
   "execution_count": null,
   "id": "d5af9fe2",
   "metadata": {},
   "outputs": [],
   "source": [
    "import requests\n",
    "import time\n",
    "import pandas as pd\n",
    "from bs4 import BeautifulSoup as bs"
   ]
  },
  {
   "cell_type": "code",
   "execution_count": null,
   "id": "ea55881f",
   "metadata": {},
   "outputs": [],
   "source": [
    "url =\"https://kind.krx.co.kr/corpgeneral/corpList.do\"\n",
    "payload = dict(method=\"searchCorpList\", pageIndex=1, currentPageSize=100, orderMode=3, orderStat=\"D\", searchType=13, fiscalYearEnd=\"all\", location=\"all\")\n",
    "r = requests.post(url, data=payload)\n",
    "print(r.status_code)\n",
    "soup = bs(r.content, 'lxml')\n",
    "company_infos = []\n",
    "for idx, tr in enumerate(soup.select(\"tbody > tr\")):\n",
    "    print(f'{idx}/{len(soup.select(\"tbody > tr\"))} 작업중')\n",
    "    # 종목코드\n",
    "    stock_code = tr.select_one(\"td:nth-child(1) > a\")[\"onclick\"].split(\"'\")[1]\n",
    "    # 회사이름\n",
    "    company_name = tr.select_one(\"td:nth-child(1) > a\")[\"title\"]\n",
    "    # 거래시장\n",
    "    stock_type = tr.select_one(\"td:nth-child(1) > img\")['alt']\n",
    "    # 업종\n",
    "    business_type = tr.select_one(\"td:nth-child(2)\").text\n",
    "    # 주요제품\n",
    "    product = tr.select_one(\"td:nth-child(3)\").text\n",
    "    # 상장일\n",
    "    resi_date = tr.select_one(\"td:nth-child(4)\").text\n",
    "    # 결산월\n",
    "    settlement = tr.select_one(\"td:nth-child(5)\").text\n",
    "    # 대표자명\n",
    "    ceo = tr.select_one(\"td:nth-child(6)\").text\n",
    "    # 홈페이지(url)\n",
    "    hompage = tr.select_one(\"td:nth-child(7) > a\")[\"href\"] if tr.select_one(\"td:nth-child(7) > a\") != None else \"\"\n",
    "    # 지역\n",
    "    region = tr.select_one(\"td:nth-child(8)\").text\n",
    "    company_infos.append((stock_code, company_name, stock_type, business_type,\n",
    "                        product, resi_date, settlement, ceo, hompage, region))\n",
    "company_infos    "
   ]
  },
  {
   "cell_type": "code",
   "execution_count": null,
   "id": "60a0efef",
   "metadata": {},
   "outputs": [],
   "source": []
  },
  {
   "cell_type": "markdown",
   "id": "7ce472b6",
   "metadata": {},
   "source": [
    "# 전체 페이지 데이터 수집하기"
   ]
  },
  {
   "cell_type": "code",
   "execution_count": null,
   "id": "8f4cf373",
   "metadata": {},
   "outputs": [],
   "source": [
    "# !pip install lxml"
   ]
  },
  {
   "cell_type": "code",
   "execution_count": 1,
   "id": "a7321581",
   "metadata": {},
   "outputs": [],
   "source": [
    "import requests\n",
    "import time\n",
    "import pandas as pd\n",
    "from bs4 import BeautifulSoup as bs"
   ]
  },
  {
   "cell_type": "code",
   "execution_count": 2,
   "id": "778d299b",
   "metadata": {},
   "outputs": [
    {
     "name": "stdout",
     "output_type": "stream",
     "text": [
      "['종목코드', '회사명', '주식종목', '업종', '주요제품', '상장일', '결산월', '대표자명', '홈페이지', '지역']\n"
     ]
    },
    {
     "data": {
      "text/html": [
       "<div>\n",
       "<style scoped>\n",
       "    .dataframe tbody tr th:only-of-type {\n",
       "        vertical-align: middle;\n",
       "    }\n",
       "\n",
       "    .dataframe tbody tr th {\n",
       "        vertical-align: top;\n",
       "    }\n",
       "\n",
       "    .dataframe thead th {\n",
       "        text-align: right;\n",
       "    }\n",
       "</style>\n",
       "<table border=\"1\" class=\"dataframe\">\n",
       "  <thead>\n",
       "    <tr style=\"text-align: right;\">\n",
       "      <th></th>\n",
       "      <th>종목코드</th>\n",
       "      <th>회사명</th>\n",
       "      <th>주식종목</th>\n",
       "      <th>업종</th>\n",
       "      <th>주요제품</th>\n",
       "      <th>상장일</th>\n",
       "      <th>결산월</th>\n",
       "      <th>대표자명</th>\n",
       "      <th>홈페이지</th>\n",
       "      <th>지역</th>\n",
       "    </tr>\n",
       "  </thead>\n",
       "  <tbody>\n",
       "    <tr>\n",
       "      <th>0</th>\n",
       "      <td>33174</td>\n",
       "      <td>아우토크립트</td>\n",
       "      <td>코스닥</td>\n",
       "      <td>소프트웨어 개발 및 공급업</td>\n",
       "      <td>자동차 사이버보안 소프트웨어 및 솔루션</td>\n",
       "      <td>2025-07-15</td>\n",
       "      <td>12월</td>\n",
       "      <td>이석우</td>\n",
       "      <td>http://autocrypt.co.kr/</td>\n",
       "      <td>서울특별시</td>\n",
       "    </tr>\n",
       "    <tr>\n",
       "      <th>1</th>\n",
       "      <td>0030R</td>\n",
       "      <td>대신밸류리츠</td>\n",
       "      <td>유가증권</td>\n",
       "      <td>신탁업 및 집합투자업</td>\n",
       "      <td>부동산 임대</td>\n",
       "      <td>2025-07-10</td>\n",
       "      <td>08월</td>\n",
       "      <td>김광진</td>\n",
       "      <td>http://www.daishinvaluereit.com/</td>\n",
       "      <td>서울특별시</td>\n",
       "    </tr>\n",
       "    <tr>\n",
       "      <th>2</th>\n",
       "      <td>46231</td>\n",
       "      <td>뉴키즈온</td>\n",
       "      <td>코스닥</td>\n",
       "      <td>봉제의복 제조업</td>\n",
       "      <td>유아동용 의복</td>\n",
       "      <td>2025-07-09</td>\n",
       "      <td>12월</td>\n",
       "      <td>주춘섭</td>\n",
       "      <td>http://newkidson.com</td>\n",
       "      <td>서울특별시</td>\n",
       "    </tr>\n",
       "    <tr>\n",
       "      <th>3</th>\n",
       "      <td>23403</td>\n",
       "      <td>싸이닉솔루션</td>\n",
       "      <td>코스닥</td>\n",
       "      <td>반도체 제조업</td>\n",
       "      <td>ASIC, ASSP, 용역, 상품 등</td>\n",
       "      <td>2025-07-07</td>\n",
       "      <td>12월</td>\n",
       "      <td>이현</td>\n",
       "      <td>http://www.synic.co.kr/</td>\n",
       "      <td>경기도</td>\n",
       "    </tr>\n",
       "    <tr>\n",
       "      <th>4</th>\n",
       "      <td>0037T</td>\n",
       "      <td>KB제32호스팩</td>\n",
       "      <td>코스닥</td>\n",
       "      <td>금융 지원 서비스업</td>\n",
       "      <td>기업인수합병</td>\n",
       "      <td>2025-07-04</td>\n",
       "      <td>12월</td>\n",
       "      <td>김세준</td>\n",
       "      <td></td>\n",
       "      <td>서울특별시</td>\n",
       "    </tr>\n",
       "    <tr>\n",
       "      <th>...</th>\n",
       "      <td>...</td>\n",
       "      <td>...</td>\n",
       "      <td>...</td>\n",
       "      <td>...</td>\n",
       "      <td>...</td>\n",
       "      <td>...</td>\n",
       "      <td>...</td>\n",
       "      <td>...</td>\n",
       "      <td>...</td>\n",
       "      <td>...</td>\n",
       "    </tr>\n",
       "    <tr>\n",
       "      <th>2754</th>\n",
       "      <td>00010</td>\n",
       "      <td>유한양행</td>\n",
       "      <td>유가증권</td>\n",
       "      <td>의약품 제조업</td>\n",
       "      <td>의약품(삐콤씨, 안티푸라민, 렉라자, 로수바미브, 코푸시럽 등), 생활용품(유한락스...</td>\n",
       "      <td>1962-11-01</td>\n",
       "      <td>12월</td>\n",
       "      <td>대표이..</td>\n",
       "      <td>http://www.yuhan.co.kr</td>\n",
       "      <td>서울특별시</td>\n",
       "    </tr>\n",
       "    <tr>\n",
       "      <th>2755</th>\n",
       "      <td>00012</td>\n",
       "      <td>CJ대한통운</td>\n",
       "      <td>유가증권</td>\n",
       "      <td>도로 화물 운송업</td>\n",
       "      <td>Contract Logistics, 포워딩, 항만하역, 해운, 택배국제특송, SCM...</td>\n",
       "      <td>1956-07-02</td>\n",
       "      <td>12월</td>\n",
       "      <td>신영수..</td>\n",
       "      <td>http://www.cjlogistics.com</td>\n",
       "      <td>서울특별시</td>\n",
       "    </tr>\n",
       "    <tr>\n",
       "      <th>2756</th>\n",
       "      <td>00005</td>\n",
       "      <td>경방</td>\n",
       "      <td>유가증권</td>\n",
       "      <td>종합 소매업</td>\n",
       "      <td>섬유류(면사,면혼방사,면직물,면혼방직물,화섬사,화섬직물) 제조,도매,수출입</td>\n",
       "      <td>1956-03-03</td>\n",
       "      <td>12월</td>\n",
       "      <td>김준,..</td>\n",
       "      <td>http://www.kyungbang.co.kr</td>\n",
       "      <td>서울특별시</td>\n",
       "    </tr>\n",
       "    <tr>\n",
       "      <th>2757</th>\n",
       "      <td>00070</td>\n",
       "      <td>유수홀딩스</td>\n",
       "      <td>유가증권</td>\n",
       "      <td>회사 본부 및 경영 컨설팅 서비스업</td>\n",
       "      <td>지주사업</td>\n",
       "      <td>1956-03-03</td>\n",
       "      <td>12월</td>\n",
       "      <td>송영규</td>\n",
       "      <td>http://www.eusu-holdings.com</td>\n",
       "      <td>서울특별시</td>\n",
       "    </tr>\n",
       "    <tr>\n",
       "      <th>2758</th>\n",
       "      <td>00348</td>\n",
       "      <td>한진중공업홀딩스</td>\n",
       "      <td>유가증권</td>\n",
       "      <td>연료용 가스 제조 및 배관공급업</td>\n",
       "      <td>지주회사</td>\n",
       "      <td>1956-03-03</td>\n",
       "      <td>12월</td>\n",
       "      <td>조원국</td>\n",
       "      <td>http://www.hhic-holdings.com</td>\n",
       "      <td>경기도</td>\n",
       "    </tr>\n",
       "  </tbody>\n",
       "</table>\n",
       "<p>2759 rows × 10 columns</p>\n",
       "</div>"
      ],
      "text/plain": [
       "       종목코드       회사명  주식종목                   업종  \\\n",
       "0     33174    아우토크립트   코스닥       소프트웨어 개발 및 공급업   \n",
       "1     0030R    대신밸류리츠  유가증권          신탁업 및 집합투자업   \n",
       "2     46231      뉴키즈온   코스닥             봉제의복 제조업   \n",
       "3     23403    싸이닉솔루션   코스닥              반도체 제조업   \n",
       "4     0037T  KB제32호스팩   코스닥           금융 지원 서비스업   \n",
       "...     ...       ...   ...                  ...   \n",
       "2754  00010      유한양행  유가증권              의약품 제조업   \n",
       "2755  00012    CJ대한통운  유가증권            도로 화물 운송업   \n",
       "2756  00005        경방  유가증권               종합 소매업   \n",
       "2757  00070     유수홀딩스  유가증권  회사 본부 및 경영 컨설팅 서비스업   \n",
       "2758  00348  한진중공업홀딩스  유가증권    연료용 가스 제조 및 배관공급업   \n",
       "\n",
       "                                                   주요제품         상장일  결산월  \\\n",
       "0                                 자동차 사이버보안 소프트웨어 및 솔루션  2025-07-15  12월   \n",
       "1                                                부동산 임대  2025-07-10  08월   \n",
       "2                                               유아동용 의복  2025-07-09  12월   \n",
       "3                                  ASIC, ASSP, 용역, 상품 등  2025-07-07  12월   \n",
       "4                                                기업인수합병  2025-07-04  12월   \n",
       "...                                                 ...         ...  ...   \n",
       "2754  의약품(삐콤씨, 안티푸라민, 렉라자, 로수바미브, 코푸시럽 등), 생활용품(유한락스...  1962-11-01  12월   \n",
       "2755  Contract Logistics, 포워딩, 항만하역, 해운, 택배국제특송, SCM...  1956-07-02  12월   \n",
       "2756          섬유류(면사,면혼방사,면직물,면혼방직물,화섬사,화섬직물) 제조,도매,수출입  1956-03-03  12월   \n",
       "2757                                               지주사업  1956-03-03  12월   \n",
       "2758                                               지주회사  1956-03-03  12월   \n",
       "\n",
       "       대표자명                              홈페이지     지역  \n",
       "0       이석우           http://autocrypt.co.kr/  서울특별시  \n",
       "1       김광진  http://www.daishinvaluereit.com/  서울특별시  \n",
       "2       주춘섭              http://newkidson.com  서울특별시  \n",
       "3        이현           http://www.synic.co.kr/    경기도  \n",
       "4       김세준                                    서울특별시  \n",
       "...     ...                               ...    ...  \n",
       "2754  대표이..            http://www.yuhan.co.kr  서울특별시  \n",
       "2755  신영수..        http://www.cjlogistics.com  서울특별시  \n",
       "2756  김준,..        http://www.kyungbang.co.kr  서울특별시  \n",
       "2757    송영규      http://www.eusu-holdings.com  서울특별시  \n",
       "2758    조원국      http://www.hhic-holdings.com    경기도  \n",
       "\n",
       "[2759 rows x 10 columns]"
      ]
     },
     "execution_count": 2,
     "metadata": {},
     "output_type": "execute_result"
    }
   ],
   "source": [
    "company_infos = []\n",
    "page = 1\n",
    "while True:\n",
    "    url =\"https://kind.krx.co.kr/corpgeneral/corpList.do\"\n",
    "    payload = dict(method=\"searchCorpList\", pageIndex=page,\n",
    "                 currentPageSize=100,\n",
    "                 orderMode=3, orderStat=\"D\", searchType=13,\n",
    "                 fiscalYearEnd=\"all\", location=\"all\")\n",
    "    r = requests.post(url, data=payload)\n",
    "#     print(r.status_code)\n",
    "    soup = bs(r.content, 'lxml')\n",
    "    # 전체 페이지\n",
    "    total_page = int(soup.select_one(\".info.type-00 > em\").text.replace(\",\", \"\")) // 100 + 1\n",
    "    \n",
    "    for idx, tr in enumerate(soup.select(\"tbody > tr\")):\n",
    "        print(f'{page}/{total_page}중, {idx}/{len(soup.select(\"tbody > tr\"))} 작업중', end=\"\\r\")\n",
    "        # 종목코드\n",
    "        stock_code = tr.select_one(\"td:nth-child(1) > a\")[\"onclick\"].split(\"'\")[1]\n",
    "        # 회사이름\n",
    "        company_name = tr.select_one(\"td:nth-child(1) > a\")[\"title\"]\n",
    "        # 주식종목\n",
    "        stock_type = tr.select_one(\"td:nth-child(1) > img\")['alt']\n",
    "        # 업종\n",
    "        business_type = tr.select_one(\"td:nth-child(2)\").text\n",
    "        # 주요제품\n",
    "        product = tr.select_one(\"td:nth-child(3)\").text\n",
    "        # 상장일\n",
    "        resi_date = tr.select_one(\"td:nth-child(4)\").text\n",
    "        # 결산월\n",
    "        settlement = tr.select_one(\"td:nth-child(5)\").text\n",
    "        # 대표자명\n",
    "        ceo = tr.select_one(\"td:nth-child(6)\").text\n",
    "        # 홈페이지(url)\n",
    "        hompage = tr.select_one(\"td:nth-child(7) > a\")[\"href\"] if tr.select_one(\"td:nth-child(7) > a\") != None else \"\"\n",
    "        # 지역\n",
    "        region = tr.select_one(\"td:nth-child(8)\").text\n",
    "        company_infos.append((stock_code, company_name, stock_type, business_type,\n",
    "                        product, resi_date, settlement, ceo, hompage, region))\n",
    "\n",
    "    if page < total_page:\n",
    "        page += 1\n",
    "    else:\n",
    "        break\n",
    "    \n",
    "# 컬럼명\n",
    "columns = soup.select_one(\"table\")[\"summary\"].split(\", \")\n",
    "columns.insert(0, \"종목코드\")\n",
    "columns.insert(2, \"주식종목\")\n",
    "print(columns)\n",
    "df = pd.DataFrame(company_infos, columns=columns)\n",
    "df  "
   ]
  },
  {
   "cell_type": "markdown",
   "id": "18bc1758",
   "metadata": {},
   "source": [
    "# 데이터를 수집한 날짜를 포함해서 파일명을 만들고 저장하기"
   ]
  },
  {
   "cell_type": "code",
   "execution_count": 6,
   "id": "0b5e146f",
   "metadata": {},
   "outputs": [],
   "source": [
    "from datetime import datetime\n",
    "import os"
   ]
  },
  {
   "cell_type": "code",
   "execution_count": 7,
   "id": "ff58e78d",
   "metadata": {},
   "outputs": [],
   "source": [
    "today = datetime.now()\n",
    "today = f\"{today.year}_{today.month:02d}_{today.day:02d}\""
   ]
  },
  {
   "cell_type": "code",
   "execution_count": 8,
   "id": "4746643c",
   "metadata": {},
   "outputs": [
    {
     "name": "stdout",
     "output_type": "stream",
     "text": [
      "'./scraping_results' 디렉터리를 생성했습니다.\n"
     ]
    }
   ],
   "source": [
    "# 생성할 디렉터리 경로\n",
    "dir_path = './scraping_results'\n",
    "\n",
    "# 디렉터리가 존재하지 않으면 생성\n",
    "if not os.path.exists(dir_path):\n",
    "    os.makedirs(dir_path)\n",
    "    print(f\"'{dir_path}' 디렉터리를 생성했습니다.\")\n",
    "else:\n",
    "    print(f\"'{dir_path}' 디렉터리는 이미 존재합니다.\")\n",
    "df.to_csv(f\"./scraping_results/상장기업정보_{today}기준.csv\", encoding=\"utf-8\", index=False)"
   ]
  },
  {
   "cell_type": "code",
   "execution_count": null,
   "id": "a9d29ae3",
   "metadata": {},
   "outputs": [],
   "source": []
  },
  {
   "cell_type": "markdown",
   "id": "6cf9c76d",
   "metadata": {},
   "source": [
    "# 수집한 자료를 데이터베이스에 저장하기"
   ]
  },
  {
   "cell_type": "code",
   "execution_count": 9,
   "id": "160aee70",
   "metadata": {},
   "outputs": [],
   "source": [
    "# !pip install sqlalchemy  \n",
    "# !pip install PyMySQL"
   ]
  },
  {
   "cell_type": "code",
   "execution_count": 10,
   "id": "7beb9ceb",
   "metadata": {},
   "outputs": [],
   "source": [
    "from sqlalchemy import create_engine, text\n",
    "import pymysql\n",
    "import os\n",
    "from dotenv import load_dotenv\n",
    "load_dotenv()\n",
    "pymysql.install_as_MySQLdb()\n",
    "\n",
    "db_host = os.environ.get(\"DB_HOST\")\n",
    "db_user = os.environ.get(\"DB_USER\")\n",
    "db_password = os.environ.get(\"DB_PASSWORD\")\n",
    "db_name =  os.environ.get(\"DB_name\")"
   ]
  },
  {
   "cell_type": "markdown",
   "id": "ffd87507",
   "metadata": {},
   "source": [
    "* sqlalchemy의 create_engine을 이용해서 mysql 서버에 접속\n",
    "engine = create_engine(\"mysql+pymysql://userid:password@ip주소:port/데이터베이스 이름)"
   ]
  },
  {
   "cell_type": "code",
   "execution_count": 11,
   "id": "27cc1ba1",
   "metadata": {},
   "outputs": [],
   "source": [
    "# engine = create_engine(\"mysql+pymysql://userid:password@ip주소:port/데이터베이스 이름)\n",
    "# localhost = 127.0.0.1\n",
    "engine = create_engine(f\"mysql+pymysql://{db_user}:{db_password}@{db_host}/{db_name}\")\n",
    "# engine.connect create_engine에 있는 정보로 DB접속\n",
    "conn = engine.connect() "
   ]
  },
  {
   "cell_type": "code",
   "execution_count": 12,
   "id": "31d67c47",
   "metadata": {},
   "outputs": [],
   "source": [
    "# 데이터프레임을 DB에 저장하기\n",
    "# 데이터프레임명.to_sql(\"테이블명\")\n",
    "df.to_sql(f\"stock_company_info\", con=conn, if_exists='replace', index=False)\n",
    "conn.close()"
   ]
  },
  {
   "cell_type": "code",
   "execution_count": null,
   "id": "2946df64",
   "metadata": {},
   "outputs": [],
   "source": []
  },
  {
   "cell_type": "markdown",
   "id": "9da33c1f",
   "metadata": {},
   "source": [
    "# 판다스의 read_html를 이용해서 table 자료 한번에 가져오기"
   ]
  },
  {
   "cell_type": "code",
   "execution_count": null,
   "id": "0806b94c",
   "metadata": {},
   "outputs": [],
   "source": [
    "soup.select_one(\"table\")"
   ]
  },
  {
   "cell_type": "code",
   "execution_count": null,
   "id": "24196136",
   "metadata": {},
   "outputs": [],
   "source": [
    "from io import StringIO"
   ]
  },
  {
   "cell_type": "code",
   "execution_count": null,
   "id": "d76273ab",
   "metadata": {},
   "outputs": [],
   "source": [
    "pd.read_html(StringIO(r.text))[1]"
   ]
  },
  {
   "cell_type": "code",
   "execution_count": null,
   "id": "abb3d78e",
   "metadata": {},
   "outputs": [],
   "source": []
  },
  {
   "cell_type": "code",
   "execution_count": null,
   "id": "c19266e2",
   "metadata": {},
   "outputs": [],
   "source": [
    "url2 = \"https://ko.wikipedia.org/wiki/%EB%8F%84%EC%9B%80%EB%A7%90:TeX_%EB%AC%B8%EB%B2%95\"\n",
    "r = requests.get(url2)\n",
    "r.text"
   ]
  },
  {
   "cell_type": "code",
   "execution_count": null,
   "id": "974d9ca2",
   "metadata": {},
   "outputs": [],
   "source": [
    "pd.read_html(r.text)[3]"
   ]
  }
 ],
 "metadata": {
  "kernelspec": {
   "display_name": "Python 3 (ipykernel)",
   "language": "python",
   "name": "python3"
  },
  "language_info": {
   "codemirror_mode": {
    "name": "ipython",
    "version": 3
   },
   "file_extension": ".py",
   "mimetype": "text/x-python",
   "name": "python",
   "nbconvert_exporter": "python",
   "pygments_lexer": "ipython3",
   "version": "3.10.16"
  }
 },
 "nbformat": 4,
 "nbformat_minor": 5
}
