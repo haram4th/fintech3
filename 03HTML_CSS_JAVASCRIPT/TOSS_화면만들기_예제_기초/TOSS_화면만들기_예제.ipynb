{
  "nbformat": 4,
  "nbformat_minor": 0,
  "metadata": {
    "colab": {
      "provenance": []
    },
    "kernelspec": {
      "name": "python3",
      "display_name": "Python 3"
    },
    "language_info": {
      "name": "python"
    }
  },
  "cells": [
    {
      "cell_type": "markdown",
      "source": [
        "---\n",
        "\n",
        "# 📚 HTML/CSS 토스 앱 클론 코딩 수업자료 (단계별)\n",
        "\n",
        "---"
      ],
      "metadata": {
        "id": "6KjoBO4oZ0AU"
      }
    },
    {
      "cell_type": "markdown",
      "source": [
        "## Slide 1. 프로젝트 시작\n",
        "\n",
        "👉 학습 목표\n",
        "\n",
        "* HTML5 기본 구조 작성\n",
        "* CSS 변수와 reset\n"
      ],
      "metadata": {
        "id": "hRuU7DM8Z6rw"
      }
    },
    {
      "cell_type": "markdown",
      "source": [
        "# 1. `main.app` 컨테이너 만들기"
      ],
      "metadata": {
        "id": "tZ8zdMuUaCWZ"
      }
    },
    {
      "cell_type": "markdown",
      "source": [
        "```html\n",
        "<!doctype html>\n",
        "<html lang=\"ko\">\n",
        "<head>\n",
        "  <meta charset=\"utf-8\" />\n",
        "  <meta name=\"viewport\" content=\"width=device-width, initial-scale=1\" />\n",
        "  <title>Toss-style UI</title>\n",
        "  <link href=\"https://fonts.googleapis.com/css2?family=Inter:wght@400;700&display=swap\" rel=\"stylesheet\">\n",
        "  <link href=\"./style.css\" rel=\"stylesheet\">\n",
        "</head>\n",
        "<body>\n",
        "  <main class=\"app\">\n",
        "    <h1>토스 앱 클론 시작</h1>\n",
        "  </main>\n",
        "</body>\n",
        "</html>\n",
        "```"
      ],
      "metadata": {
        "id": "XJdKrjwXaI4W"
      }
    },
    {
      "cell_type": "markdown",
      "source": [
        "```css\n",
        ":root {\n",
        "  --bg: #f3f5f7;\n",
        "  --card: #fff;\n",
        "  --text: #121418;\n",
        "  --blue: #2f6df6;\n",
        "  --line: #e7ebf0;\n",
        "  --radius: 20px;\n",
        "}\n",
        "\n",
        "* { box-sizing: border-box; margin:0; padding:0; }\n",
        "body {\n",
        "  font-family: Inter, sans-serif;\n",
        "  background: var(--bg);\n",
        "  color: var(--text);\n",
        "}\n",
        ".app {\n",
        "  max-width: 420px;\n",
        "  margin: 24px auto;\n",
        "  padding: 16px;\n",
        "  background: #f9fafc;\n",
        "  border-radius: 32px;\n",
        "}\n",
        "```"
      ],
      "metadata": {
        "id": "nl7it3jpaPV7"
      }
    },
    {
      "cell_type": "markdown",
      "source": [
        "# Slide 2. 상태바 & 헤더\n",
        "👉 Flexbox 연습"
      ],
      "metadata": {
        "id": "x5LSAJ7Haag1"
      }
    },
    {
      "cell_type": "markdown",
      "source": [
        "```html\n",
        "<div class=\"statusbar\">\n",
        "  <div>10:18</div>\n",
        "  <div class=\"icons\">📡 📶 <span class=\"pill\">73%</span></div>\n",
        "</div>\n",
        "\n",
        "<div class=\"header-row\">\n",
        "  <div>📁 할 일</div>\n",
        "  <div class=\"right-btn\">\n",
        "    <span class=\"pill\">결제</span> 🔔\n",
        "  </div>\n",
        "</div>\n",
        "```"
      ],
      "metadata": {
        "id": "31R1sGZ3aiRF"
      }
    },
    {
      "cell_type": "markdown",
      "source": [
        "```css\n",
        ".statusbar {\n",
        "  display: flex; justify-content: space-between;\n",
        "  font-weight: 600; font-size: 14px;\n",
        "}\n",
        ".pill {\n",
        "  background:#e9eef7; border-radius:999px;\n",
        "  padding:4px 8px; font-size:13px;\n",
        "}\n",
        ".header-row {\n",
        "  display:flex; justify-content:space-between; margin:8px 0 12px;\n",
        "}\n",
        "```"
      ],
      "metadata": {
        "id": "oSacQJKTamAo"
      }
    },
    {
      "cell_type": "markdown",
      "source": [
        "# Slide 3. 메인 계좌 카드\n",
        "\n",
        "👉 큰 카드 컴포넌트 만들기"
      ],
      "metadata": {
        "id": "wdAQP53Oao97"
      }
    },
    {
      "cell_type": "markdown",
      "source": [
        "```html\n",
        "<section class=\"card\">\n",
        "  <div class=\"account-main\">\n",
        "    <div>\n",
        "      <div class=\"account-title\">토스뱅크 통장 · 주계좌</div>\n",
        "      <div class=\"balance\">1,222,222원</div>\n",
        "    </div>\n",
        "    <button class=\"btn\">송금</button>\n",
        "  </div>\n",
        "  <div class=\"row\">\n",
        "    <div class=\"k\">내 토스뱅크</div>\n",
        "    <div class=\"v\">쌓인 이자 33원 ▸</div>\n",
        "  </div>\n",
        "</section>\n",
        "```"
      ],
      "metadata": {
        "id": "ZoW41q5varxS"
      }
    },
    {
      "cell_type": "markdown",
      "source": [
        "```css\n",
        ".card {\n",
        "  background: var(--card);\n",
        "  border-radius: var(--radius);\n",
        "  padding: 18px; margin-top:12px;\n",
        "  box-shadow:0 8px 24px rgba(16,24,40,.06);\n",
        "}\n",
        ".account-main {\n",
        "  display:flex; justify-content:space-between;\n",
        "}\n",
        ".balance {\n",
        "  font-size:28px; font-weight:800;\n",
        "}\n",
        ".btn {\n",
        "  background:#eef3ff; color:var(--blue);\n",
        "  border-radius:14px; padding:8px 14px;\n",
        "  font-weight:800;\n",
        "}\n",
        ".row {\n",
        "  display:flex; justify-content:space-between;\n",
        "  border-top:1px dashed var(--line);\n",
        "  padding-top:12px; margin-top:12px;\n",
        "}\n",
        "```"
      ],
      "metadata": {
        "id": "7GnX0MQAasvr"
      }
    },
    {
      "cell_type": "markdown",
      "source": [
        " # Slide 4. 자주 쓰는 계좌 리스트\n",
        " 👉 반복되는 아이템 스타일링"
      ],
      "metadata": {
        "id": "dfmOetfsay7W"
      }
    },
    {
      "cell_type": "markdown",
      "source": [
        "```html\n",
        "<div class=\"card\">\n",
        "  <h2 class=\"section-title\">자주 쓰는 계좌 ⚙️</h2>\n",
        "  <div class=\"list\">\n",
        "    <div class=\"item\">\n",
        "      <span>🐟 굴비적금</span>\n",
        "      <span>1,200,000원</span>\n",
        "    </div>\n",
        "    <div class=\"item\">\n",
        "      <span>🍡 투자 모아보기</span>\n",
        "      <span>100,151,400원</span>\n",
        "    </div>\n",
        "    <div class=\"item\">\n",
        "      <span>🏆 도전통장</span>\n",
        "      <span>10,000원</span>\n",
        "    </div>\n",
        "  </div>\n",
        "</div>\n",
        "```"
      ],
      "metadata": {
        "id": "yHyEz3bla2pF"
      }
    },
    {
      "cell_type": "markdown",
      "source": [
        "```css\n",
        ".section-title {\n",
        "  font-weight:800; margin-bottom:10px;\n",
        "}\n",
        ".list .item {\n",
        "  display:flex; justify-content:space-between;\n",
        "  padding:12px 0; border-bottom:1px solid var(--line);\n",
        "}\n",
        "```"
      ],
      "metadata": {
        "id": "DO-X1UIga8vz"
      }
    },
    {
      "cell_type": "markdown",
      "source": [
        "# Slide 5. 소비 내역 카드\n",
        "\n",
        "👉 작은 카드 & 강조 텍스트\n"
      ],
      "metadata": {
        "id": "JNIQjReEbDDH"
      }
    },
    {
      "cell_type": "markdown",
      "source": [
        "```html\n",
        "<div class=\"small-card\">\n",
        "  <div>\n",
        "    <div class=\"big\">1,418,387원</div>\n",
        "    <div class=\"title\">9월에 쓴 돈</div>\n",
        "  </div>\n",
        "  <div class=\"badge\">내역</div>\n",
        "</div>\n",
        "```"
      ],
      "metadata": {
        "id": "oO1mdSn3bDjr"
      }
    },
    {
      "cell_type": "markdown",
      "source": [
        "```css\n",
        ".small-card {\n",
        "  display:flex; justify-content:space-between;\n",
        "  align-items:center;\n",
        "  background:var(--card);\n",
        "  border-radius:var(--radius);\n",
        "  padding:16px; margin-top:12px;\n",
        "}\n",
        ".small-card .big { font-size:24px; font-weight:900; }\n",
        ".badge {\n",
        "  background:#eef3ff; color:var(--blue);\n",
        "  border-radius:12px; padding:6px 12px;\n",
        "}\n",
        "```"
      ],
      "metadata": {
        "id": "ddVogAZJbITc"
      }
    },
    {
      "cell_type": "markdown",
      "source": [
        " # Slide 6. 하단 네비게이션\n",
        "\n",
        "👉 sticky nav"
      ],
      "metadata": {
        "id": "Xu8GxuSDbOnw"
      }
    },
    {
      "cell_type": "markdown",
      "source": [
        "\n",
        "```html\n",
        "<nav class=\"navbar\">\n",
        "  <div class=\"navitem active\">홈</div>\n",
        "  <div class=\"navitem\">혜택</div>\n",
        "  <div class=\"navitem\">쇼핑</div>\n",
        "  <div class=\"navitem\">증권</div>\n",
        "  <div class=\"navitem\">전체</div>\n",
        "</nav>\n",
        "```"
      ],
      "metadata": {
        "id": "ab2N__HmbQpj"
      }
    },
    {
      "cell_type": "markdown",
      "source": [
        "```css\n",
        ".navbar {\n",
        "  position:sticky; bottom:0;\n",
        "  display:flex; justify-content:space-around;\n",
        "  border-top:1px solid var(--line);\n",
        "  background:#fff; padding:12px 0;\n",
        "}\n",
        ".navitem { font-size:12px; font-weight:700; }\n",
        ".navitem.active { color:var(--blue); }\n",
        "```"
      ],
      "metadata": {
        "id": "ViI8t6M2bQ5U"
      }
    },
    {
      "cell_type": "markdown",
      "source": [
        "# Slide 7. 반응형 글자 크기\n",
        "\n",
        "👉 clamp + cqi\n"
      ],
      "metadata": {
        "id": "o_FDmSbdbaaz"
      }
    },
    {
      "cell_type": "markdown",
      "source": [
        "```css\n",
        ".balance {\n",
        "  white-space:nowrap;\n",
        "  font-size:clamp(20px, 10cqi, 28px);\n",
        "}\n",
        ".big {\n",
        "  white-space:nowrap;\n",
        "  font-size:clamp(18px, 9cqi, 24px);\n",
        "}\n",
        "```"
      ],
      "metadata": {
        "id": "6_YOPFTebcZh"
      }
    },
    {
      "cell_type": "markdown",
      "source": [
        "👉 지금까지 작성한 HTML/CSS를 합치면 완성된 UI가 된다.\n",
        "\n",
        "* 상태바\n",
        "* 헤더\n",
        "* 메인 계좌 카드\n",
        "* 계좌 리스트\n",
        "* 소비 내역 카드\n",
        "* 하단 네비게이션\n",
        "* 반응형 대응\n"
      ],
      "metadata": {
        "id": "RBoW-SpJdlF2"
      }
    }
  ]
}